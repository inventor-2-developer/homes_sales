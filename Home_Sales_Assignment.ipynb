{
  "cells": [
    {
      "cell_type": "markdown",
      "metadata": {
        "id": "view-in-github",
        "colab_type": "text"
      },
      "source": [
        "<a href=\"https://colab.research.google.com/github/inventor-2-developer/homes_sales/blob/main/Home_Sales_Assignment.ipynb\" target=\"_parent\"><img src=\"https://colab.research.google.com/assets/colab-badge.svg\" alt=\"Open In Colab\"/></a>"
      ]
    },
    {
      "cell_type": "code",
      "execution_count": 1,
      "metadata": {
        "colab": {
          "base_uri": "https://localhost:8080/"
        },
        "id": "a_KW73O2e3dw",
        "outputId": "06a004e4-e4a5-43fe-ca55-0c8529aa7087"
      },
      "outputs": [
        {
          "output_type": "stream",
          "name": "stdout",
          "text": [
            "\r0% [Working]\r            \rGet:1 https://cloud.r-project.org/bin/linux/ubuntu bionic-cran40/ InRelease [3,626 B]\n",
            "\r0% [Waiting for headers] [Waiting for headers] [Waiting for headers] [Connectin\r0% [1 InRelease gpgv 3,626 B] [Waiting for headers] [Waiting for headers] [Wait\r                                                                               \rGet:2 http://security.ubuntu.com/ubuntu bionic-security InRelease [88.7 kB]\n",
            "\r0% [1 InRelease gpgv 3,626 B] [Waiting for headers] [2 InRelease 14.2 kB/88.7 k\r                                                                               \rHit:3 http://archive.ubuntu.com/ubuntu bionic InRelease\n",
            "\r0% [1 InRelease gpgv 3,626 B] [Waiting for headers] [2 InRelease 14.2 kB/88.7 k\r                                                                               \rIgn:4 https://developer.download.nvidia.com/compute/machine-learning/repos/ubuntu1804/x86_64  InRelease\n",
            "\r0% [1 InRelease gpgv 3,626 B] [Waiting for headers] [2 InRelease 14.2 kB/88.7 k\r                                                                               \rHit:5 https://developer.download.nvidia.com/compute/cuda/repos/ubuntu1804/x86_64  InRelease\n",
            "\r0% [1 InRelease gpgv 3,626 B] [Waiting for headers] [2 InRelease 14.2 kB/88.7 k\r                                                                               \rHit:6 https://developer.download.nvidia.com/compute/machine-learning/repos/ubuntu1804/x86_64  Release\n",
            "\r0% [1 InRelease gpgv 3,626 B] [Waiting for headers] [2 InRelease 14.2 kB/88.7 k\r                                                                               \rGet:7 http://ppa.launchpad.net/c2d4u.team/c2d4u4.0+/ubuntu bionic InRelease [15.9 kB]\n",
            "Get:8 http://archive.ubuntu.com/ubuntu bionic-updates InRelease [88.7 kB]\n",
            "Hit:9 http://ppa.launchpad.net/cran/libgit2/ubuntu bionic InRelease\n",
            "Get:10 http://archive.ubuntu.com/ubuntu bionic-backports InRelease [83.3 kB]\n",
            "Hit:11 http://ppa.launchpad.net/deadsnakes/ppa/ubuntu bionic InRelease\n",
            "Hit:12 http://ppa.launchpad.net/graphics-drivers/ppa/ubuntu bionic InRelease\n",
            "Get:14 http://ppa.launchpad.net/c2d4u.team/c2d4u4.0+/ubuntu bionic/main amd64 Packages [1,080 kB]\n",
            "Get:15 http://security.ubuntu.com/ubuntu bionic-security/main amd64 Packages [2,990 kB]\n",
            "Get:16 http://security.ubuntu.com/ubuntu bionic-security/universe amd64 Packages [1,545 kB]\n",
            "Get:17 http://archive.ubuntu.com/ubuntu bionic-updates/universe amd64 Packages [2,322 kB]\n",
            "Get:18 http://archive.ubuntu.com/ubuntu bionic-updates/main amd64 Packages [3,422 kB]\n",
            "Get:19 http://archive.ubuntu.com/ubuntu bionic-backports/universe amd64 Packages [20.6 kB]\n",
            "Get:20 http://archive.ubuntu.com/ubuntu bionic-backports/main amd64 Packages [64.0 kB]\n",
            "Fetched 11.7 MB in 4s (2,619 kB/s)\n",
            "Reading package lists... Done\n"
          ]
        }
      ],
      "source": [
        "# Activate Spark in our Colab notebook.\n",
        "import os\n",
        "# Find the latest version of spark 3.0  from http://www.apache.org/dist/spark/ and enter as the spark version\n",
        "# For example: 'spark-3.2.2'\n",
        "spark_version = 'spark-3.2.2'\n",
        "# spark_version = 'spark-3.<enter version>'\n",
        "os.environ['SPARK_VERSION']=spark_version\n",
        "\n",
        "# Install Spark and Java\n",
        "!apt-get update\n",
        "!apt-get install openjdk-11-jdk-headless -qq > /dev/null\n",
        "!wget -q http://www.apache.org/dist/spark/$SPARK_VERSION/$SPARK_VERSION-bin-hadoop3.2.tgz\n",
        "!tar xf $SPARK_VERSION-bin-hadoop3.2.tgz\n",
        "!pip install -q findspark\n",
        "\n",
        "# Set Environment Variables\n",
        "os.environ[\"JAVA_HOME\"] = \"/usr/lib/jvm/java-11-openjdk-amd64\"\n",
        "os.environ[\"SPARK_HOME\"] = f\"/content/{spark_version}-bin-hadoop3.2\"\n",
        "\n",
        "# Start a SparkSession\n",
        "import findspark\n",
        "findspark.init()"
      ]
    },
    {
      "cell_type": "code",
      "execution_count": 47,
      "metadata": {
        "id": "2XbWNf1Te5fM"
      },
      "outputs": [],
      "source": [
        "# Import packages\n",
        "from pyspark.sql import SparkSession\n",
        "from pyspark import SparkFiles\n",
        "import time\n",
        "import re\n",
        "from pyspark.sql.types import *\n",
        "from pyspark.sql.functions import udf\n",
        "from pyspark.sql.functions import avg\n",
        "from pyspark.sql.functions import round\n",
        "from pyspark.sql.functions import year,col\n",
        "from pyspark.sql.types import IntegerType,BooleanType,DateType\n",
        "\n",
        "# Create a SparkSession\n",
        "spark = SparkSession.builder.appName(\"SparkSQL\").getOrCreate()"
      ]
    },
    {
      "cell_type": "code",
      "execution_count": 48,
      "metadata": {
        "colab": {
          "base_uri": "https://localhost:8080/"
        },
        "id": "wOJqxG_RPSwp",
        "outputId": "1e3d4c90-d83a-47c8-baf1-be6d2b65908a"
      },
      "outputs": [
        {
          "output_type": "stream",
          "name": "stdout",
          "text": [
            "+---+--------------------+----------+----------+------+--------+---------+-----------+--------+------+----------+----+\n",
            "|_c0|                  id|      date|date_built| price|bedrooms|bathrooms|sqft_living|sqft_lot|floors|waterfront|view|\n",
            "+---+--------------------+----------+----------+------+--------+---------+-----------+--------+------+----------+----+\n",
            "|  0|f8a53099-ba1c-47d...|2022-04-08|      2016|936923|       4|        3|       3167|   11733|     2|         1|  76|\n",
            "|  1|7530a2d8-1ae3-451...|2021-06-13|      2013|379628|       2|        2|       2235|   14384|     1|         0|  23|\n",
            "|  2|43de979c-0bf0-4c9...|2019-04-12|      2014|417866|       2|        2|       2127|   10575|     2|         0|   0|\n",
            "|  3|b672c137-b88c-48b...|2019-10-16|      2016|239895|       2|        2|       1631|   11149|     2|         0|   0|\n",
            "|  4|e0726d4d-d595-407...|2022-01-08|      2017|424418|       3|        2|       2249|   13878|     2|         0|   4|\n",
            "|  5|5aa00529-0533-46b...|2019-01-30|      2017|218712|       2|        3|       1965|   14375|     2|         0|   7|\n",
            "|  6|131492a1-72e2-4a8...|2020-02-08|      2017|419199|       2|        3|       2062|    8876|     2|         0|   6|\n",
            "|  7|8d54a71b-c520-44e...|2019-07-21|      2010|323956|       2|        3|       1506|   11816|     1|         0|  25|\n",
            "|  8|e81aacfe-17fe-46b...|2020-06-16|      2016|181925|       3|        3|       2137|   11709|     2|         0|  22|\n",
            "|  9|2ed8d509-7372-46d...|2021-08-06|      2015|258710|       3|        3|       1918|    9666|     1|         0|  25|\n",
            "| 10|f876d86f-3c9f-42b...|2019-02-27|      2011|167864|       3|        3|       2471|   13924|     2|         0|  15|\n",
            "| 11|0a2bd445-8508-4d8...|2021-12-30|      2014|337527|       2|        3|       1926|   12556|     1|         0|  23|\n",
            "| 12|941bad30-eb49-4a7...|2020-05-09|      2015|229896|       3|        3|       2197|    8641|     1|         0|   3|\n",
            "| 13|dd61eb34-6589-4c0...|2021-07-25|      2016|210247|       3|        2|       1672|   11986|     2|         0|  28|\n",
            "| 14|f1e4cef7-d151-439...|2019-02-01|      2011|398667|       2|        3|       2331|   11356|     1|         0|   7|\n",
            "| 15|ea620c7b-c2f7-4c6...|2021-05-31|      2011|437958|       3|        3|       2356|   11052|     1|         0|  26|\n",
            "| 16|f233cb41-6f33-4b0...|2021-07-18|      2016|437375|       4|        3|       1704|   11721|     2|         0|  34|\n",
            "| 17|c797ca12-52cd-4b1...|2019-06-08|      2015|288650|       2|        3|       2100|   10419|     2|         0|   7|\n",
            "| 18|0cfe57f3-28c2-472...|2019-10-04|      2015|308313|       3|        3|       1960|    9453|     2|         0|   2|\n",
            "| 19|4566cd2a-ac6e-435...|2019-07-15|      2016|177541|       3|        3|       2130|   10517|     2|         0|  25|\n",
            "+---+--------------------+----------+----------+------+--------+---------+-----------+--------+------+----------+----+\n",
            "only showing top 20 rows\n",
            "\n"
          ]
        }
      ],
      "source": [
        "# Read in the dataset from the AWS S3 bucket.\n",
        "url = \"https://2u-data-curriculum-team.s3.amazonaws.com/nflx-data-science-adv/week-5/Assignment/home_sales_revised.csv\"\n",
        "spark.sparkContext.addFile(url)\n",
        "df=spark.read.csv(SparkFiles.get(\"home_sales_revised.csv\"),sep=\",\",header=True)\n",
        "df.show()"
      ]
    },
    {
      "cell_type": "code",
      "source": [
        "df.select(year(df['date'])).show()"
      ],
      "metadata": {
        "colab": {
          "base_uri": "https://localhost:8080/"
        },
        "id": "5SUfWY_cRPuJ",
        "outputId": "ef46e9ad-c7e9-490c-ac37-41fed0619a8a"
      },
      "execution_count": 49,
      "outputs": [
        {
          "output_type": "stream",
          "name": "stdout",
          "text": [
            "+----------+\n",
            "|year(date)|\n",
            "+----------+\n",
            "|      2022|\n",
            "|      2021|\n",
            "|      2019|\n",
            "|      2019|\n",
            "|      2022|\n",
            "|      2019|\n",
            "|      2020|\n",
            "|      2019|\n",
            "|      2020|\n",
            "|      2021|\n",
            "|      2019|\n",
            "|      2021|\n",
            "|      2020|\n",
            "|      2021|\n",
            "|      2019|\n",
            "|      2021|\n",
            "|      2021|\n",
            "|      2019|\n",
            "|      2019|\n",
            "|      2019|\n",
            "+----------+\n",
            "only showing top 20 rows\n",
            "\n"
          ]
        }
      ]
    },
    {
      "cell_type": "code",
      "source": [
        "df=df.withColumn(\"year\",year(df['date']))\n",
        "df.show()"
      ],
      "metadata": {
        "colab": {
          "base_uri": "https://localhost:8080/"
        },
        "id": "y2NyzyBzRYfo",
        "outputId": "1143a4ea-0f88-411c-ff99-21489ef06f70"
      },
      "execution_count": 50,
      "outputs": [
        {
          "output_type": "stream",
          "name": "stdout",
          "text": [
            "+---+--------------------+----------+----------+------+--------+---------+-----------+--------+------+----------+----+----+\n",
            "|_c0|                  id|      date|date_built| price|bedrooms|bathrooms|sqft_living|sqft_lot|floors|waterfront|view|year|\n",
            "+---+--------------------+----------+----------+------+--------+---------+-----------+--------+------+----------+----+----+\n",
            "|  0|f8a53099-ba1c-47d...|2022-04-08|      2016|936923|       4|        3|       3167|   11733|     2|         1|  76|2022|\n",
            "|  1|7530a2d8-1ae3-451...|2021-06-13|      2013|379628|       2|        2|       2235|   14384|     1|         0|  23|2021|\n",
            "|  2|43de979c-0bf0-4c9...|2019-04-12|      2014|417866|       2|        2|       2127|   10575|     2|         0|   0|2019|\n",
            "|  3|b672c137-b88c-48b...|2019-10-16|      2016|239895|       2|        2|       1631|   11149|     2|         0|   0|2019|\n",
            "|  4|e0726d4d-d595-407...|2022-01-08|      2017|424418|       3|        2|       2249|   13878|     2|         0|   4|2022|\n",
            "|  5|5aa00529-0533-46b...|2019-01-30|      2017|218712|       2|        3|       1965|   14375|     2|         0|   7|2019|\n",
            "|  6|131492a1-72e2-4a8...|2020-02-08|      2017|419199|       2|        3|       2062|    8876|     2|         0|   6|2020|\n",
            "|  7|8d54a71b-c520-44e...|2019-07-21|      2010|323956|       2|        3|       1506|   11816|     1|         0|  25|2019|\n",
            "|  8|e81aacfe-17fe-46b...|2020-06-16|      2016|181925|       3|        3|       2137|   11709|     2|         0|  22|2020|\n",
            "|  9|2ed8d509-7372-46d...|2021-08-06|      2015|258710|       3|        3|       1918|    9666|     1|         0|  25|2021|\n",
            "| 10|f876d86f-3c9f-42b...|2019-02-27|      2011|167864|       3|        3|       2471|   13924|     2|         0|  15|2019|\n",
            "| 11|0a2bd445-8508-4d8...|2021-12-30|      2014|337527|       2|        3|       1926|   12556|     1|         0|  23|2021|\n",
            "| 12|941bad30-eb49-4a7...|2020-05-09|      2015|229896|       3|        3|       2197|    8641|     1|         0|   3|2020|\n",
            "| 13|dd61eb34-6589-4c0...|2021-07-25|      2016|210247|       3|        2|       1672|   11986|     2|         0|  28|2021|\n",
            "| 14|f1e4cef7-d151-439...|2019-02-01|      2011|398667|       2|        3|       2331|   11356|     1|         0|   7|2019|\n",
            "| 15|ea620c7b-c2f7-4c6...|2021-05-31|      2011|437958|       3|        3|       2356|   11052|     1|         0|  26|2021|\n",
            "| 16|f233cb41-6f33-4b0...|2021-07-18|      2016|437375|       4|        3|       1704|   11721|     2|         0|  34|2021|\n",
            "| 17|c797ca12-52cd-4b1...|2019-06-08|      2015|288650|       2|        3|       2100|   10419|     2|         0|   7|2019|\n",
            "| 18|0cfe57f3-28c2-472...|2019-10-04|      2015|308313|       3|        3|       1960|    9453|     2|         0|   2|2019|\n",
            "| 19|4566cd2a-ac6e-435...|2019-07-15|      2016|177541|       3|        3|       2130|   10517|     2|         0|  25|2019|\n",
            "+---+--------------------+----------+----------+------+--------+---------+-----------+--------+------+----------+----+----+\n",
            "only showing top 20 rows\n",
            "\n"
          ]
        }
      ]
    },
    {
      "cell_type": "code",
      "source": [
        "#df2 = df.withColumn(\"date_built\"col(\"date_built\").cast(IntegerType()))\",\n",
        "   # \"cast(isGraduated as string) isGraduated\",\n",
        "   # \"cast(jobStartDate as string) jobStartDate\")\n",
        "\n",
        "\n",
        "df2 = df.withColumn(\"date_built\",df.date_built.cast(IntegerType()))\\\n",
        "    .withColumn(\"price\",df.price.cast(IntegerType()))\\\n",
        "    .withColumn(\"bedrooms\",df.bedrooms.cast(IntegerType()))\\\n",
        "    .withColumn(\"bathrooms\",df.bathrooms.cast(IntegerType()))\\\n",
        "    .withColumn(\"sqft_living\",df.sqft_living.cast(IntegerType()))\\\n",
        "    .withColumn(\"sqft_lot\",df.sqft_lot.cast(IntegerType())) \\\n",
        "    .withColumn(\"floors\",df.floors.cast(IntegerType()))\\\n",
        "    .withColumn(\"waterfront\",df.waterfront.cast(IntegerType()))\\\n",
        "    .withColumn(\"view\",df.view.cast(IntegerType()))\\\n",
        "\n",
        "\n",
        "\n",
        "\n",
        "\n"
      ],
      "metadata": {
        "id": "ljQAldnIzR83"
      },
      "execution_count": 61,
      "outputs": []
    },
    {
      "cell_type": "code",
      "source": [
        "df2.printSchema()"
      ],
      "metadata": {
        "colab": {
          "base_uri": "https://localhost:8080/"
        },
        "id": "DEAvnmLfy3DP",
        "outputId": "468297ce-d5bc-48df-cbb7-5901e3695b3d"
      },
      "execution_count": 62,
      "outputs": [
        {
          "output_type": "stream",
          "name": "stdout",
          "text": [
            "root\n",
            " |-- _c0: string (nullable = true)\n",
            " |-- id: string (nullable = true)\n",
            " |-- date: string (nullable = true)\n",
            " |-- date_built: integer (nullable = true)\n",
            " |-- price: integer (nullable = true)\n",
            " |-- bedrooms: integer (nullable = true)\n",
            " |-- bathrooms: integer (nullable = true)\n",
            " |-- sqft_living: integer (nullable = true)\n",
            " |-- sqft_lot: integer (nullable = true)\n",
            " |-- floors: integer (nullable = true)\n",
            " |-- waterfront: integer (nullable = true)\n",
            " |-- view: integer (nullable = true)\n",
            " |-- year: integer (nullable = true)\n",
            "\n"
          ]
        }
      ]
    },
    {
      "cell_type": "code",
      "execution_count": 155,
      "metadata": {
        "id": "RoljcJ7WPpnm"
      },
      "outputs": [],
      "source": [
        "# 1. Create a temporary view of the DataFrame.\n",
        "df2.createOrReplaceTempView('home_sales')"
      ]
    },
    {
      "cell_type": "code",
      "execution_count": 214,
      "metadata": {
        "colab": {
          "base_uri": "https://localhost:8080/"
        },
        "id": "L6fkwOeOmqvq",
        "outputId": "84b6776b-2f25-4618-99a4-e18358a84e6b"
      },
      "outputs": [
        {
          "output_type": "stream",
          "name": "stdout",
          "text": [
            "+-------------+\n",
            "|AVERAGE_PRICE|\n",
            "+-------------+\n",
            "|     300263.7|\n",
            "+-------------+\n",
            "\n"
          ]
        }
      ],
      "source": [
        "# 2. What is the average price for a four bedroom house sold in 2019 rounded to two decimal places?\n",
        "#sql=\"\"\"SELECT price FROM home_sales   \"\"\"\n",
        "#spark.sql(sql).show()\n",
        "\n",
        "spark.sql(\"select round(AVG(price),2) as AVERAGE_PRICE from home_sales where rlike(date,'(2019)')and bedrooms==4\").show()\n",
        "\n",
        "\n"
      ]
    },
    {
      "cell_type": "code",
      "source": [
        "# did this question two ways and got the same answer\n",
        "spark.sql(\"select round(AVG(price),2) as AVERAGE_PRICE from home_sales where year ==2019 and bedrooms==4\").show()"
      ],
      "metadata": {
        "colab": {
          "base_uri": "https://localhost:8080/"
        },
        "id": "5NhadlBeQ8c5",
        "outputId": "98e0349b-3876-41e0-ae24-8b9030e5e907"
      },
      "execution_count": 213,
      "outputs": [
        {
          "output_type": "stream",
          "name": "stdout",
          "text": [
            "+-------------+\n",
            "|AVERAGE_PRICE|\n",
            "+-------------+\n",
            "|     300263.7|\n",
            "+-------------+\n",
            "\n"
          ]
        }
      ]
    },
    {
      "cell_type": "code",
      "execution_count": 212,
      "metadata": {
        "colab": {
          "base_uri": "https://localhost:8080/"
        },
        "id": "l8p_tUS8h8it",
        "outputId": "71fff093-e343-49d7-c541-8a449e681b95"
      },
      "outputs": [
        {
          "output_type": "stream",
          "name": "stdout",
          "text": [
            "+----+-------------+\n",
            "|year|AVERAGE_PRICE|\n",
            "+----+-------------+\n",
            "|2022|    292725.69|\n",
            "|2021|    294211.46|\n",
            "|2020|    294204.16|\n",
            "|2019|    287287.82|\n",
            "+----+-------------+\n",
            "\n"
          ]
        }
      ],
      "source": [
        "# 3. What is the average price of a home for each year that have 3 bedrooms and 3 bathrooms rounded to two decimal places?\n",
        "\n",
        "sql=(\"\"\"SELECT year,round(AVG(price),2) as AVERAGE_PRICE FROM home_sales WHERE((bathrooms==3) AND (bedrooms==3)) GROUP BY year ORDER BY year desc \"\"\")\n",
        "spark.sql(sql).show()\n"
      ]
    },
    {
      "cell_type": "code",
      "execution_count": 211,
      "metadata": {
        "colab": {
          "base_uri": "https://localhost:8080/"
        },
        "id": "Y-Eytz64liDU",
        "outputId": "8c5e9ccf-87c5-47f7-881e-bc5553468f63"
      },
      "outputs": [
        {
          "output_type": "stream",
          "name": "stdout",
          "text": [
            "+----+-------------+\n",
            "|year|AVERAGE_PRICE|\n",
            "+----+-------------+\n",
            "|2022|    283031.02|\n",
            "|2021|     282452.7|\n",
            "|2020|    291973.53|\n",
            "|2019|    280167.38|\n",
            "+----+-------------+\n",
            "\n"
          ]
        }
      ],
      "source": [
        "# 4. What is the average price of a home for each year that have 3 bedrooms, 3 bathrooms, and are less than 2,000 square feet rounded to two decimal places?\n",
        "sql=(\"\"\"SELECT year,round(AVG(price),2) as AVERAGE_PRICE FROM home_sales WHERE((bathrooms==3) AND (bedrooms==3) AND (sqft_living<2000)) GROUP BY year ORDER BY year desc \"\"\")\n",
        "\n",
        "spark.sql(sql).show()\n"
      ]
    },
    {
      "cell_type": "code",
      "execution_count": 215,
      "metadata": {
        "colab": {
          "base_uri": "https://localhost:8080/"
        },
        "id": "GUrfgOX1pCRd",
        "outputId": "32b70c4a-1f96-4364-d7b5-1e5032091a08"
      },
      "outputs": [
        {
          "output_type": "stream",
          "name": "stdout",
          "text": [
            "+----+-------------+\n",
            "|view|AVERAGE_PRICE|\n",
            "+----+-------------+\n",
            "| 100|    1026669.5|\n",
            "|  99|   1061201.42|\n",
            "|  98|   1053739.33|\n",
            "|  97|   1129040.15|\n",
            "|  96|   1017815.92|\n",
            "|  95|    1054325.6|\n",
            "|  94|    1033536.2|\n",
            "|  93|   1026006.06|\n",
            "|  92|    970402.55|\n",
            "|  91|   1137372.73|\n",
            "|  90|   1062654.16|\n",
            "|  89|   1107839.15|\n",
            "|  88|   1031719.35|\n",
            "|  87|    1072285.2|\n",
            "|  86|   1070444.25|\n",
            "|  85|   1056336.74|\n",
            "|  84|   1117233.13|\n",
            "|  83|   1033965.93|\n",
            "|  82|    1063498.0|\n",
            "|  81|   1053472.79|\n",
            "+----+-------------+\n",
            "only showing top 20 rows\n",
            "\n",
            "--- 0.3129312992095947 seconds ---\n"
          ]
        }
      ],
      "source": [
        "# 5. What is the \"view\" rating for the average price of a home, rounded to two decimal places, where the homes are less than $350,000?\n",
        "# Although this is a small dataset, determine the run time for this query.\n",
        "start_time = time.time()\n",
        "sql=(\"\"\"SELECT view,round(AVG(price),2) as AVERAGE_PRICE FROM home_sales WHERE((price>350000)) GROUP BY view ORDER BY view desc \"\"\")\n",
        "spark.sql(sql).show()\n",
        "print(\"--- %s seconds ---\" % (time.time() - start_time))"
      ]
    },
    {
      "cell_type": "code",
      "execution_count": 200,
      "metadata": {
        "colab": {
          "base_uri": "https://localhost:8080/"
        },
        "id": "KAhk3ZD2tFy8",
        "outputId": "d3809b2c-cd6d-4bad-c3c3-05dc15f38e67"
      },
      "outputs": [
        {
          "output_type": "execute_result",
          "data": {
            "text/plain": [
              "DataFrame[]"
            ]
          },
          "metadata": {},
          "execution_count": 200
        }
      ],
      "source": [
        "# 6. Cache the the temporary table home_sales.\n",
        "spark.sql(\"cache table home_sales\")"
      ]
    },
    {
      "cell_type": "code",
      "execution_count": 202,
      "metadata": {
        "colab": {
          "base_uri": "https://localhost:8080/"
        },
        "id": "4opVhbvxtL-i",
        "outputId": "f3092267-0278-4632-a15d-2f0725082e13"
      },
      "outputs": [
        {
          "output_type": "execute_result",
          "data": {
            "text/plain": [
              "True"
            ]
          },
          "metadata": {},
          "execution_count": 202
        }
      ],
      "source": [
        "# 7. Check if the table is cached.\n",
        "spark.catalog.isCached(\"home_sales\")"
      ]
    },
    {
      "cell_type": "code",
      "execution_count": 216,
      "metadata": {
        "colab": {
          "base_uri": "https://localhost:8080/"
        },
        "id": "5GnL46lwTSEk",
        "outputId": "3921e36b-b133-448e-d51c-59ab548f1ee9"
      },
      "outputs": [
        {
          "output_type": "stream",
          "name": "stdout",
          "text": [
            "+----+-------------+\n",
            "|view|AVERAGE_PRICE|\n",
            "+----+-------------+\n",
            "| 100|    1026669.5|\n",
            "|  99|   1061201.42|\n",
            "|  98|   1053739.33|\n",
            "|  97|   1129040.15|\n",
            "|  96|   1017815.92|\n",
            "|  95|    1054325.6|\n",
            "|  94|    1033536.2|\n",
            "|  93|   1026006.06|\n",
            "|  92|    970402.55|\n",
            "|  91|   1137372.73|\n",
            "|  90|   1062654.16|\n",
            "|  89|   1107839.15|\n",
            "|  88|   1031719.35|\n",
            "|  87|    1072285.2|\n",
            "|  86|   1070444.25|\n",
            "|  85|   1056336.74|\n",
            "|  84|   1117233.13|\n",
            "|  83|   1033965.93|\n",
            "|  82|    1063498.0|\n",
            "|  81|   1053472.79|\n",
            "+----+-------------+\n",
            "only showing top 20 rows\n",
            "\n",
            "--- 0.42626190185546875 seconds ---\n"
          ]
        }
      ],
      "source": [
        "# 8. Using the cached data, run the query that filters out the view ratings with average price of less than $350,000. \n",
        "# Determine the runtime and compare it to uncached runtime.\n",
        "\n",
        "start_time = time.time()\n",
        "\n",
        "sql=(\"\"\"SELECT view,round(AVG(price),2) as AVERAGE_PRICE FROM home_sales WHERE((price>350000)) GROUP BY view ORDER BY view desc \"\"\")\n",
        "spark.sql(sql).show()\n",
        "print(\"--- %s seconds ---\" % (time.time() - start_time))\n",
        "\n",
        "\n"
      ]
    },
    {
      "cell_type": "code",
      "execution_count": 204,
      "metadata": {
        "id": "Qm12WN9isHBR"
      },
      "outputs": [],
      "source": [
        "# 9. Partition the home sales dataset by the date_built field.\n",
        "df2.write.partitionBy(\"date_built\").mode(\"overwrite\").parquet(\"home_sales\")"
      ]
    },
    {
      "cell_type": "code",
      "execution_count": 205,
      "metadata": {
        "id": "AZ7BgY61sRqY"
      },
      "outputs": [],
      "source": [
        "# 10.Read the formatted parquet data.\n",
        "p_df_p=spark.read.parquet('home_sales')"
      ]
    },
    {
      "cell_type": "code",
      "execution_count": 206,
      "metadata": {
        "id": "J6MJkHfvVcvh"
      },
      "outputs": [],
      "source": [
        "# 11. Create a temporary table for the parquet data.\n",
        "p_df_p.createOrReplaceTempView('p_home_sales_p')"
      ]
    },
    {
      "cell_type": "code",
      "execution_count": 207,
      "metadata": {
        "colab": {
          "base_uri": "https://localhost:8080/"
        },
        "id": "G_Vhb52rU1Sn",
        "outputId": "7f73d797-cdcb-41cc-cda2-cb8d1a3bc762"
      },
      "outputs": [
        {
          "output_type": "stream",
          "name": "stdout",
          "text": [
            "+----+------------------+\n",
            "|view|     AVERAGE_PRICE|\n",
            "+----+------------------+\n",
            "| 100|         1026669.5|\n",
            "|  99|1061201.4193548388|\n",
            "|  98|1053739.3333333333|\n",
            "|  97| 1129040.148148148|\n",
            "|  96|1017815.9166666666|\n",
            "|  95|         1054325.6|\n",
            "|  94|         1033536.2|\n",
            "|  93|1026006.0606060605|\n",
            "|  92| 970402.5476190476|\n",
            "|  91| 1137372.731707317|\n",
            "|  90|1062654.1621621621|\n",
            "|  89|        1107839.15|\n",
            "|  88|1031719.3548387097|\n",
            "|  87|         1072285.2|\n",
            "|  86|        1070444.25|\n",
            "|  85|1056336.7435897435|\n",
            "|  84|1117233.1290322582|\n",
            "|  83|       1033965.925|\n",
            "|  82|         1063498.0|\n",
            "|  81|1053472.7878787878|\n",
            "+----+------------------+\n",
            "only showing top 20 rows\n",
            "\n",
            "--- 0.8567702770233154 seconds ---\n"
          ]
        }
      ],
      "source": [
        "# 12. Run the query that filters out the view ratings with average price of less than $350,000 with the parquet DataFrame. \n",
        "# Round your average to two decimal places. \n",
        "# Determine the runtime and compare it to the cached version. \n",
        "start_time = time.time()\n",
        "\n",
        "sql=(\"\"\"SELECT view,AVG(price) as AVERAGE_PRICE FROM p_home_sales_p WHERE((price>350000)) GROUP BY view ORDER BY view desc \"\"\")\n",
        "spark.sql(sql).show()\n",
        "print(\"--- %s seconds ---\" % (time.time() - start_time))\n",
        "\n",
        "\n"
      ]
    },
    {
      "cell_type": "code",
      "execution_count": 208,
      "metadata": {
        "colab": {
          "base_uri": "https://localhost:8080/"
        },
        "id": "hjjYzQGjtbq8",
        "outputId": "ac3bbd45-e25d-4934-9b79-f7fc9f67d339"
      },
      "outputs": [
        {
          "output_type": "execute_result",
          "data": {
            "text/plain": [
              "DataFrame[]"
            ]
          },
          "metadata": {},
          "execution_count": 208
        }
      ],
      "source": [
        "# 13. Uncache the home_sales temporary table.\n",
        "\n",
        "spark.sql(\"uncache table p_home_sales_p\")"
      ]
    },
    {
      "cell_type": "code",
      "execution_count": 210,
      "metadata": {
        "colab": {
          "base_uri": "https://localhost:8080/"
        },
        "id": "Sy9NBvO7tlmm",
        "outputId": "d05d4e5c-486b-4ac8-876e-ba28190303a9"
      },
      "outputs": [
        {
          "output_type": "execute_result",
          "data": {
            "text/plain": [
              "False"
            ]
          },
          "metadata": {},
          "execution_count": 210
        }
      ],
      "source": [
        "# 14. Check if the home_sales is no longer cached\n",
        "spark.catalog.isCached(\"p_home_sales_p\")"
      ]
    }
  ],
  "metadata": {
    "colab": {
      "collapsed_sections": [],
      "provenance": [],
      "include_colab_link": true
    },
    "kernelspec": {
      "display_name": "Python 3",
      "name": "python3"
    },
    "language_info": {
      "name": "python"
    }
  },
  "nbformat": 4,
  "nbformat_minor": 0
}