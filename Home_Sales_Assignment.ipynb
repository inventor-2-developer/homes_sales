{
  "cells": [
    {
      "cell_type": "markdown",
      "metadata": {
        "id": "view-in-github",
        "colab_type": "text"
      },
      "source": [
        "<a href=\"https://colab.research.google.com/github/inventor-2-developer/homes_sales/blob/main/Home_Sales_Assignment.ipynb\" target=\"_parent\"><img src=\"https://colab.research.google.com/assets/colab-badge.svg\" alt=\"Open In Colab\"/></a>"
      ]
    },
    {
      "cell_type": "code",
      "execution_count": 1,
      "metadata": {
        "colab": {
          "base_uri": "https://localhost:8080/"
        },
        "id": "a_KW73O2e3dw",
        "outputId": "df852eca-66c4-4452-a120-7cb81d005b8b"
      },
      "outputs": [
        {
          "output_type": "stream",
          "name": "stdout",
          "text": [
            "\r0% [Working]\r            \rGet:1 https://cloud.r-project.org/bin/linux/ubuntu bionic-cran40/ InRelease [3,626 B]\n",
            "\r0% [Waiting for headers] [Connecting to security.ubuntu.com (185.125.190.36)] [\r0% [Waiting for headers] [Connecting to security.ubuntu.com (185.125.190.36)] [\r                                                                               \rHit:2 http://archive.ubuntu.com/ubuntu bionic InRelease\n",
            "\r0% [Waiting for headers] [Connecting to security.ubuntu.com (185.125.190.36)] [\r                                                                               \rGet:3 http://archive.ubuntu.com/ubuntu bionic-updates InRelease [88.7 kB]\n",
            "\r0% [3 InRelease 14.2 kB/88.7 kB 16%] [Connecting to security.ubuntu.com (185.12\r0% [1 InRelease gpgv 3,626 B] [3 InRelease 14.2 kB/88.7 kB 16%] [Connecting to \r0% [1 InRelease gpgv 3,626 B] [Waiting for headers] [Waiting for headers] [Wait\r                                                                               \rGet:4 http://archive.ubuntu.com/ubuntu bionic-backports InRelease [80.6 kB]\n",
            "\r0% [1 InRelease gpgv 3,626 B] [4 InRelease 8,396 B/80.6 kB 10%] [Waiting for he\r0% [1 InRelease gpgv 3,626 B] [Waiting for headers] [Waiting for headers] [Wait\r                                                                               \rHit:5 http://ppa.launchpad.net/c2d4u.team/c2d4u4.0+/ubuntu bionic InRelease\n",
            "\r0% [1 InRelease gpgv 3,626 B] [Waiting for headers] [Waiting for headers] [Conn\r                                                                               \rGet:6 http://security.ubuntu.com/ubuntu bionic-security InRelease [88.7 kB]\n",
            "\r0% [1 InRelease gpgv 3,626 B] [6 InRelease 14.2 kB/88.7 kB 16%] [Waiting for he\r                                                                               \rIgn:7 https://developer.download.nvidia.com/compute/machine-learning/repos/ubuntu1804/x86_64  InRelease\n",
            "\r0% [1 InRelease gpgv 3,626 B] [6 InRelease 14.2 kB/88.7 kB 16%] [Waiting for he\r                                                                               \rHit:8 https://developer.download.nvidia.com/compute/cuda/repos/ubuntu1804/x86_64  InRelease\n",
            "Hit:9 https://developer.download.nvidia.com/compute/machine-learning/repos/ubuntu1804/x86_64  Release\n",
            "Hit:10 http://ppa.launchpad.net/cran/libgit2/ubuntu bionic InRelease\n",
            "Hit:11 http://ppa.launchpad.net/deadsnakes/ppa/ubuntu bionic InRelease\n",
            "Hit:12 http://ppa.launchpad.net/graphics-drivers/ppa/ubuntu bionic InRelease\n",
            "Get:13 http://archive.ubuntu.com/ubuntu bionic-updates/main amd64 Packages [3,422 kB]\n",
            "Get:14 http://archive.ubuntu.com/ubuntu bionic-updates/universe amd64 Packages [2,322 kB]\n",
            "Get:15 http://archive.ubuntu.com/ubuntu bionic-backports/universe amd64 Packages [20.6 kB]\n",
            "Get:16 http://archive.ubuntu.com/ubuntu bionic-backports/main amd64 Packages [64.0 kB]\n",
            "Get:18 http://security.ubuntu.com/ubuntu bionic-security/universe amd64 Packages [1,545 kB]\n",
            "Get:19 http://security.ubuntu.com/ubuntu bionic-security/main amd64 Packages [2,990 kB]\n",
            "Fetched 10.6 MB in 3s (3,055 kB/s)\n",
            "Reading package lists... Done\n"
          ]
        }
      ],
      "source": [
        "# Activate Spark in our Colab notebook.\n",
        "import os\n",
        "# Find the latest version of spark 3.0  from http://www.apache.org/dist/spark/ and enter as the spark version\n",
        "# For example: 'spark-3.2.2'\n",
        "spark_version = 'spark-3.2.2'\n",
        "# spark_version = 'spark-3.<enter version>'\n",
        "os.environ['SPARK_VERSION']=spark_version\n",
        "\n",
        "# Install Spark and Java\n",
        "!apt-get update\n",
        "!apt-get install openjdk-11-jdk-headless -qq > /dev/null\n",
        "!wget -q http://www.apache.org/dist/spark/$SPARK_VERSION/$SPARK_VERSION-bin-hadoop3.2.tgz\n",
        "!tar xf $SPARK_VERSION-bin-hadoop3.2.tgz\n",
        "!pip install -q findspark\n",
        "\n",
        "# Set Environment Variables\n",
        "os.environ[\"JAVA_HOME\"] = \"/usr/lib/jvm/java-11-openjdk-amd64\"\n",
        "os.environ[\"SPARK_HOME\"] = f\"/content/{spark_version}-bin-hadoop3.2\"\n",
        "\n",
        "# Start a SparkSession\n",
        "import findspark\n",
        "findspark.init()"
      ]
    },
    {
      "cell_type": "code",
      "execution_count": 2,
      "metadata": {
        "id": "2XbWNf1Te5fM"
      },
      "outputs": [],
      "source": [
        "# Import packages\n",
        "from pyspark.sql import SparkSession\n",
        "from pyspark import SparkFiles\n",
        "import time\n",
        "\n",
        "# Create a SparkSession\n",
        "spark = SparkSession.builder.appName(\"SparkSQL\").getOrCreate()"
      ]
    },
    {
      "cell_type": "code",
      "execution_count": 9,
      "metadata": {
        "colab": {
          "base_uri": "https://localhost:8080/"
        },
        "id": "wOJqxG_RPSwp",
        "outputId": "1b42c42b-6751-4ff3-f62a-8cf58148233b"
      },
      "outputs": [
        {
          "output_type": "stream",
          "name": "stdout",
          "text": [
            "+---+--------------------+----------+----------+------+--------+---------+-----------+--------+------+----------+----+\n",
            "|_c0|                  id|      date|date_built| price|bedrooms|bathrooms|sqft_living|sqft_lot|floors|waterfront|view|\n",
            "+---+--------------------+----------+----------+------+--------+---------+-----------+--------+------+----------+----+\n",
            "|  0|f8a53099-ba1c-47d...|2022-04-08|      2016|936923|       4|        3|       3167|   11733|     2|         1|  76|\n",
            "|  1|7530a2d8-1ae3-451...|2021-06-13|      2013|379628|       2|        2|       2235|   14384|     1|         0|  23|\n",
            "|  2|43de979c-0bf0-4c9...|2019-04-12|      2014|417866|       2|        2|       2127|   10575|     2|         0|   0|\n",
            "|  3|b672c137-b88c-48b...|2019-10-16|      2016|239895|       2|        2|       1631|   11149|     2|         0|   0|\n",
            "|  4|e0726d4d-d595-407...|2022-01-08|      2017|424418|       3|        2|       2249|   13878|     2|         0|   4|\n",
            "|  5|5aa00529-0533-46b...|2019-01-30|      2017|218712|       2|        3|       1965|   14375|     2|         0|   7|\n",
            "|  6|131492a1-72e2-4a8...|2020-02-08|      2017|419199|       2|        3|       2062|    8876|     2|         0|   6|\n",
            "|  7|8d54a71b-c520-44e...|2019-07-21|      2010|323956|       2|        3|       1506|   11816|     1|         0|  25|\n",
            "|  8|e81aacfe-17fe-46b...|2020-06-16|      2016|181925|       3|        3|       2137|   11709|     2|         0|  22|\n",
            "|  9|2ed8d509-7372-46d...|2021-08-06|      2015|258710|       3|        3|       1918|    9666|     1|         0|  25|\n",
            "| 10|f876d86f-3c9f-42b...|2019-02-27|      2011|167864|       3|        3|       2471|   13924|     2|         0|  15|\n",
            "| 11|0a2bd445-8508-4d8...|2021-12-30|      2014|337527|       2|        3|       1926|   12556|     1|         0|  23|\n",
            "| 12|941bad30-eb49-4a7...|2020-05-09|      2015|229896|       3|        3|       2197|    8641|     1|         0|   3|\n",
            "| 13|dd61eb34-6589-4c0...|2021-07-25|      2016|210247|       3|        2|       1672|   11986|     2|         0|  28|\n",
            "| 14|f1e4cef7-d151-439...|2019-02-01|      2011|398667|       2|        3|       2331|   11356|     1|         0|   7|\n",
            "| 15|ea620c7b-c2f7-4c6...|2021-05-31|      2011|437958|       3|        3|       2356|   11052|     1|         0|  26|\n",
            "| 16|f233cb41-6f33-4b0...|2021-07-18|      2016|437375|       4|        3|       1704|   11721|     2|         0|  34|\n",
            "| 17|c797ca12-52cd-4b1...|2019-06-08|      2015|288650|       2|        3|       2100|   10419|     2|         0|   7|\n",
            "| 18|0cfe57f3-28c2-472...|2019-10-04|      2015|308313|       3|        3|       1960|    9453|     2|         0|   2|\n",
            "| 19|4566cd2a-ac6e-435...|2019-07-15|      2016|177541|       3|        3|       2130|   10517|     2|         0|  25|\n",
            "+---+--------------------+----------+----------+------+--------+---------+-----------+--------+------+----------+----+\n",
            "only showing top 20 rows\n",
            "\n"
          ]
        }
      ],
      "source": [
        "# Read in the dataset from the AWS S3 bucket.\n",
        "url = \"https://2u-data-curriculum-team.s3.amazonaws.com/nflx-data-science-adv/week-5/Assignment/home_sales_revised.csv\"\n",
        "spark.sparkContext.addFile(url)\n",
        "df=spark.read.csv(SparkFiles.get(\"home_sales_revised.csv\"),sep=\",\",header=True)\n",
        "df.show()"
      ]
    },
    {
      "cell_type": "code",
      "execution_count": 10,
      "metadata": {
        "id": "RoljcJ7WPpnm"
      },
      "outputs": [],
      "source": [
        "# 1. Create a temporary view of the DataFrame.\n",
        "df.createOrReplaceTempView('home_sales')"
      ]
    },
    {
      "cell_type": "code",
      "execution_count": 54,
      "metadata": {
        "colab": {
          "base_uri": "https://localhost:8080/"
        },
        "id": "L6fkwOeOmqvq",
        "outputId": "a0fdc45f-132f-415e-af75-e21ed422b7f7"
      },
      "outputs": [
        {
          "output_type": "stream",
          "name": "stdout",
          "text": [
            "+------+\n",
            "| price|\n",
            "+------+\n",
            "|936923|\n",
            "|379628|\n",
            "|417866|\n",
            "|239895|\n",
            "|424418|\n",
            "|218712|\n",
            "|419199|\n",
            "|323956|\n",
            "|181925|\n",
            "|258710|\n",
            "|167864|\n",
            "|337527|\n",
            "|229896|\n",
            "|210247|\n",
            "|398667|\n",
            "|437958|\n",
            "|437375|\n",
            "|288650|\n",
            "|308313|\n",
            "|177541|\n",
            "+------+\n",
            "only showing top 20 rows\n",
            "\n"
          ]
        }
      ],
      "source": [
        "# 2. What is the average price for a four bedroom house sold in 2019 rounded to two decimal places?\n",
        "sql=\"\"\"SELECT price FROM home_sales   \"\"\"\n",
        "spark.sql(sql).show()\n",
        "\n",
        "#spark.sql(\"select * from DATA where rlike(date,'^[0-9]*$')\").show()"
      ]
    },
    {
      "cell_type": "code",
      "execution_count": 37,
      "metadata": {
        "colab": {
          "base_uri": "https://localhost:8080/"
        },
        "id": "l8p_tUS8h8it",
        "outputId": "0118e78b-29f7-4b14-9f7a-a0d3f5dc189b"
      },
      "outputs": [
        {
          "output_type": "stream",
          "name": "stdout",
          "text": [
            "+----------+--------+---------+\n",
            "|      date|bedrooms|bathrooms|\n",
            "+----------+--------+---------+\n",
            "|2020-06-16|       3|        3|\n",
            "|2021-08-06|       3|        3|\n",
            "|2019-02-27|       3|        3|\n",
            "|2020-05-09|       3|        3|\n",
            "|2021-05-31|       3|        3|\n",
            "|2019-10-04|       3|        3|\n",
            "|2019-07-15|       3|        3|\n",
            "|2022-06-05|       3|        3|\n",
            "|2019-04-17|       3|        3|\n",
            "|2019-10-28|       3|        3|\n",
            "|2020-02-12|       3|        3|\n",
            "|2021-11-18|       3|        3|\n",
            "|2022-03-06|       3|        3|\n",
            "|2021-06-18|       3|        3|\n",
            "|2019-02-06|       3|        3|\n",
            "|2019-03-31|       3|        3|\n",
            "|2022-04-01|       3|        3|\n",
            "|2022-06-12|       3|        3|\n",
            "|2019-09-17|       3|        3|\n",
            "|2020-05-11|       3|        3|\n",
            "+----------+--------+---------+\n",
            "only showing top 20 rows\n",
            "\n"
          ]
        }
      ],
      "source": [
        "# 3. What is the average price of a home for each year that have 3 bedrooms and 3 bathrooms rounded to two decimal places?\n",
        "sql=\"\"\" SELECT date, bedrooms,bathrooms FROM home_sales WHERE bedrooms ==3 and bathrooms==3\"\"\"\n",
        "spark.sql(sql).show()\n"
      ]
    },
    {
      "cell_type": "code",
      "execution_count": 38,
      "metadata": {
        "colab": {
          "base_uri": "https://localhost:8080/"
        },
        "id": "Y-Eytz64liDU",
        "outputId": "b2a8b961-baf3-431b-90c8-c87701890479"
      },
      "outputs": [
        {
          "output_type": "stream",
          "name": "stdout",
          "text": [
            "+--------+---------+----------+-----------+\n",
            "|bedrooms|bathrooms|date_built|sqft_living|\n",
            "+--------+---------+----------+-----------+\n",
            "|       3|        3|      2016|       2137|\n",
            "|       3|        3|      2011|       2471|\n",
            "|       3|        3|      2015|       2197|\n",
            "|       3|        3|      2011|       2356|\n",
            "|       3|        3|      2016|       2130|\n",
            "|       3|        3|      2016|       2025|\n",
            "|       3|        3|      2014|       2271|\n",
            "|       3|        3|      2017|       2162|\n",
            "|       3|        3|      2010|       2049|\n",
            "|       3|        3|      2015|       2356|\n",
            "|       3|        3|      2011|       2371|\n",
            "|       3|        3|      2010|       2383|\n",
            "|       3|        3|      2017|       2226|\n",
            "|       3|        3|      2015|       2485|\n",
            "|       3|        3|      2015|       2051|\n",
            "|       3|        3|      2015|       2487|\n",
            "|       3|        3|      2015|       2234|\n",
            "|       3|        3|      2010|       2325|\n",
            "|       3|        3|      2014|       2309|\n",
            "|       3|        3|      2013|       2489|\n",
            "+--------+---------+----------+-----------+\n",
            "only showing top 20 rows\n",
            "\n"
          ]
        }
      ],
      "source": [
        "# 4. What is the average price of a home for each year that have 3 bedrooms, 3 bathrooms, and are less than 2,000 square feet rounded to two decimal places?\n",
        "sql = \"\"\" SELECT bedrooms, bathrooms,date_built, sqft_living FROM home_sales WHERE bedrooms==3 and bathrooms==3 and sqft_living >2000\n",
        "\n",
        "\"\"\"\n",
        "spark.sql(sql).show()\n"
      ]
    },
    {
      "cell_type": "code",
      "execution_count": 41,
      "metadata": {
        "colab": {
          "base_uri": "https://localhost:8080/"
        },
        "id": "GUrfgOX1pCRd",
        "outputId": "a5a20629-cc92-468f-abee-70e29383b7d9"
      },
      "outputs": [
        {
          "output_type": "stream",
          "name": "stdout",
          "text": [
            "+------+----+\n",
            "| price|view|\n",
            "+------+----+\n",
            "|936923|  76|\n",
            "|379628|  23|\n",
            "|417866|   0|\n",
            "|424418|   4|\n",
            "|419199|   6|\n",
            "|398667|   7|\n",
            "|437958|  26|\n",
            "|437375|  34|\n",
            "|377485|  23|\n",
            "|417215|  48|\n",
            "|372151|  16|\n",
            "|391574|  10|\n",
            "|419543|  24|\n",
            "|843191|  91|\n",
            "|429183|  49|\n",
            "|395178|  37|\n",
            "|429030|  23|\n",
            "|396508|  25|\n",
            "|399016|  23|\n",
            "|409011|   1|\n",
            "+------+----+\n",
            "only showing top 20 rows\n",
            "\n"
          ]
        }
      ],
      "source": [
        "# 5. What is the \"view\" rating for the average price of a home, rounded to two decimal places, where the homes are less than $350,000?\n",
        "# Although this is a small dataset, determine the run time for this query.\n",
        "sql = \"\"\" SELECT price, view FROM home_sales WHERE price >350000\n",
        "\n",
        "\"\"\"\n",
        "spark.sql(sql).show()\n",
        "\n"
      ]
    },
    {
      "cell_type": "code",
      "execution_count": null,
      "metadata": {
        "colab": {
          "base_uri": "https://localhost:8080/"
        },
        "id": "KAhk3ZD2tFy8",
        "outputId": "0a8f132d-40a8-4bd4-b5f2-2847e98427f5"
      },
      "outputs": [
        {
          "data": {
            "text/plain": [
              "DataFrame[]"
            ]
          },
          "execution_count": 19,
          "metadata": {},
          "output_type": "execute_result"
        }
      ],
      "source": [
        "# 6. Cache the the temporary table home_sales.\n"
      ]
    },
    {
      "cell_type": "code",
      "execution_count": null,
      "metadata": {
        "colab": {
          "base_uri": "https://localhost:8080/"
        },
        "id": "4opVhbvxtL-i",
        "outputId": "38ec8487-795f-4550-b50c-fcc6f2b7c769"
      },
      "outputs": [
        {
          "data": {
            "text/plain": [
              "True"
            ]
          },
          "execution_count": 20,
          "metadata": {},
          "output_type": "execute_result"
        }
      ],
      "source": [
        "# 7. Check if the table is cached.\n"
      ]
    },
    {
      "cell_type": "code",
      "execution_count": null,
      "metadata": {
        "colab": {
          "base_uri": "https://localhost:8080/"
        },
        "id": "5GnL46lwTSEk",
        "outputId": "09a16c73-194d-4371-95d1-ee64fe83b91c"
      },
      "outputs": [
        {
          "name": "stdout",
          "output_type": "stream",
          "text": [
            "+----+-------------+\n",
            "|view|AVERAGE_PRICE|\n",
            "+----+-------------+\n",
            "|  99|   1061201.42|\n",
            "|  98|   1053739.33|\n",
            "|  97|   1129040.15|\n",
            "|  96|   1017815.92|\n",
            "|  95|    1054325.6|\n",
            "|  94|    1033536.2|\n",
            "|  93|   1026006.06|\n",
            "|  92|    970402.55|\n",
            "|  91|   1137372.73|\n",
            "|  90|   1062654.16|\n",
            "|  89|   1107839.15|\n",
            "|  88|   1031719.35|\n",
            "|  87|    1072285.2|\n",
            "|  86|   1070444.25|\n",
            "|  85|   1056336.74|\n",
            "|  84|   1117233.13|\n",
            "|  83|   1033965.93|\n",
            "|  82|    1063498.0|\n",
            "|  81|   1053472.79|\n",
            "|  80|    991767.38|\n",
            "+----+-------------+\n",
            "only showing top 20 rows\n",
            "\n",
            "--- 1.8723046779632568 seconds ---\n"
          ]
        }
      ],
      "source": [
        "# 8. Using the cached data, run the query that filters out the view ratings with average price of less than $350,000. \n",
        "# Determine the runtime and compare it to uncached runtime.\n",
        "\n",
        "\n",
        "\n",
        "sql = \"\"\"\n",
        "\n",
        "\"\"\"\n",
        "spark.sql(sql).show()\n",
        "\n",
        "\n"
      ]
    },
    {
      "cell_type": "code",
      "execution_count": null,
      "metadata": {
        "id": "Qm12WN9isHBR"
      },
      "outputs": [],
      "source": [
        "# 9. Partition the home sales dataset by the date_built field.\n"
      ]
    },
    {
      "cell_type": "code",
      "execution_count": null,
      "metadata": {
        "id": "AZ7BgY61sRqY"
      },
      "outputs": [],
      "source": [
        "# 10.Read the formatted parquet data.\n"
      ]
    },
    {
      "cell_type": "code",
      "execution_count": null,
      "metadata": {
        "id": "J6MJkHfvVcvh"
      },
      "outputs": [],
      "source": [
        "# 11. Create a temporary table for the parquet data.\n"
      ]
    },
    {
      "cell_type": "code",
      "execution_count": null,
      "metadata": {
        "colab": {
          "base_uri": "https://localhost:8080/"
        },
        "id": "G_Vhb52rU1Sn",
        "outputId": "a0b8d0c4-55ed-4c6c-bfd8-4c8c5334838e"
      },
      "outputs": [
        {
          "name": "stdout",
          "output_type": "stream",
          "text": [
            "+----+-------------+\n",
            "|view|AVERAGE_PRICE|\n",
            "+----+-------------+\n",
            "|  99|   1061201.42|\n",
            "|  98|   1053739.33|\n",
            "|  97|   1129040.15|\n",
            "|  96|   1017815.92|\n",
            "|  95|    1054325.6|\n",
            "|  94|    1033536.2|\n",
            "|  93|   1026006.06|\n",
            "|  92|    970402.55|\n",
            "|  91|   1137372.73|\n",
            "|  90|   1062654.16|\n",
            "|  89|   1107839.15|\n",
            "|  88|   1031719.35|\n",
            "|  87|    1072285.2|\n",
            "|  86|   1070444.25|\n",
            "|  85|   1056336.74|\n",
            "|  84|   1117233.13|\n",
            "|  83|   1033965.93|\n",
            "|  82|    1063498.0|\n",
            "|  81|   1053472.79|\n",
            "|  80|    991767.38|\n",
            "+----+-------------+\n",
            "only showing top 20 rows\n",
            "\n",
            "--- 1.8514270782470703 seconds ---\n"
          ]
        }
      ],
      "source": [
        "# 12. Run the query that filters out the view ratings with average price of less than $350,000 with the parquet DataFrame. \n",
        "# Round your average to two decimal places. \n",
        "# Determine the runtime and compare it to the cached version. \n",
        "\n",
        "\n",
        "\n",
        "sql = \"\"\"\n",
        "\n",
        "\"\"\"\n",
        "spark.sql(sql).show()\n",
        "\n"
      ]
    },
    {
      "cell_type": "code",
      "execution_count": null,
      "metadata": {
        "colab": {
          "base_uri": "https://localhost:8080/"
        },
        "id": "hjjYzQGjtbq8",
        "outputId": "830549fd-bb41-451b-9183-5ebf6e3e470b"
      },
      "outputs": [
        {
          "data": {
            "text/plain": [
              "DataFrame[]"
            ]
          },
          "execution_count": 16,
          "metadata": {},
          "output_type": "execute_result"
        }
      ],
      "source": [
        "# 13. Uncache the home_sales temporary table.\n"
      ]
    },
    {
      "cell_type": "code",
      "execution_count": null,
      "metadata": {
        "colab": {
          "base_uri": "https://localhost:8080/"
        },
        "id": "Sy9NBvO7tlmm",
        "outputId": "be73e0e3-5e85-4794-aad9-025fb6fa84a7"
      },
      "outputs": [
        {
          "name": "stdout",
          "output_type": "stream",
          "text": [
            "all clear\n"
          ]
        }
      ],
      "source": [
        "# 14. Check if the home_sales is no longer cached\n"
      ]
    }
  ],
  "metadata": {
    "colab": {
      "collapsed_sections": [],
      "provenance": [],
      "include_colab_link": true
    },
    "kernelspec": {
      "display_name": "Python 3",
      "name": "python3"
    },
    "language_info": {
      "name": "python"
    }
  },
  "nbformat": 4,
  "nbformat_minor": 0
}